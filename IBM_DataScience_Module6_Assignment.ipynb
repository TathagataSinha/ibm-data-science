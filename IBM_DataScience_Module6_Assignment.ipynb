{
 "cells": [
  {
   "cell_type": "markdown",
   "id": "83e9eb7e-7e89-4e20-80ee-1bb22007a022",
   "metadata": {},
   "source": [
    "# Data Science Tools and Ecosystem \n",
    "#### (IBM Data Science Module 6 Assignment)"
   ]
  },
  {
   "cell_type": "markdown",
   "id": "95ba1210-330f-4f70-a12f-2c724512ab94",
   "metadata": {},
   "source": [
    "#### Introduction \n",
    "In this notebook, we will explore tools for Data Science. We will cover programming languages, libraries, tools, and some basic arithmetic operations with code examples."
   ]
  },
  {
   "cell_type": "markdown",
   "id": "628f40ac-7668-49ac-95dc-d5bb3de53ab3",
   "metadata": {},
   "source": [
    "#### List of data science languages\n",
    "1. Python  \n",
    "2. R  \n",
    "3. SQL  \n",
    "4. Julia  \n",
    "5. Scala\n",
    "6. C++\n",
    "7. Julia"
   ]
  },
  {
   "cell_type": "markdown",
   "id": "dae5caac-cb84-42a9-8201-6dc2e5ab7c35",
   "metadata": {},
   "source": [
    "#### List of data science libraries\n",
    "* Scientific Computing:\n",
    "  - Pandas\n",
    "  - NumPy\n",
    "* Visualization\n",
    "  - Matplotlib\n",
    "  - Seaborn\n",
    "* High-level machine learning\n",
    "  - Scikit-learn"
   ]
  },
  {
   "cell_type": "markdown",
   "id": "03c62c33-b2e1-404c-be43-2274000f9243",
   "metadata": {},
   "source": [
    "#### Below are a few examples of Data Science tools:\n",
    "\n",
    "| Tool              | Description                          |\n",
    "|-------------------|--------------------------------------|\n",
    "| Jupyter Notebook  | Interactive environment for coding   |\n",
    "| RStudio           | IDE for R programming                |\n",
    "| Apache Zeppelin   | Web-based notebook for data analysis |"
   ]
  },
  {
   "cell_type": "markdown",
   "id": "cd072484-6faa-4747-a666-5c34c5d6c4f3",
   "metadata": {},
   "source": [
    "#### Evaluating arithmetic expressions"
   ]
  },
  {
   "cell_type": "code",
   "execution_count": 1,
   "id": "7e0c6a54-0547-4fde-856b-0824bdfdce40",
   "metadata": {},
   "outputs": [
    {
     "data": {
      "text/plain": [
       "107"
      ]
     },
     "execution_count": 1,
     "metadata": {},
     "output_type": "execute_result"
    }
   ],
   "source": [
    "(23 * 4) + 15"
   ]
  },
  {
   "cell_type": "markdown",
   "id": "af093292-6053-4e09-abcb-692f6f472854",
   "metadata": {},
   "source": [
    "####  Convert minutes to hours"
   ]
  },
  {
   "cell_type": "code",
   "execution_count": 3,
   "id": "ab922e2f-0b63-440b-b682-22e870d8ecf3",
   "metadata": {},
   "outputs": [
    {
     "name": "stdin",
     "output_type": "stream",
     "text": [
      "Insert minutes: 300\n"
     ]
    },
    {
     "name": "stdout",
     "output_type": "stream",
     "text": [
      "Hour(s): 5.0\n"
     ]
    }
   ],
   "source": [
    "var_input= int(input(\"Insert minutes:\"))\n",
    "print(\"Hour(s):\", var_input/60)"
   ]
  },
  {
   "cell_type": "markdown",
   "id": "6bc306f7-5564-439d-87e5-b264a57d2fe1",
   "metadata": {},
   "source": [
    "#### Objectives:\n",
    "\n",
    "- List languages for Data Science  \n",
    "- Identify common libraries used in Data Science  \n",
    "- Create tables in markdown  \n",
    "- Perform arithmetic operations using code  \n",
    "- Convert time units using Python"
   ]
  },
  {
   "cell_type": "markdown",
   "id": "c3459235-e561-4eb6-8868-57df6beace0e",
   "metadata": {},
   "source": [
    "#### Author:\n",
    "Tathagata Abhigyan Sinha"
   ]
  },
  {
   "cell_type": "code",
   "execution_count": null,
   "id": "8d508a4b-02d9-46c7-a9d4-7a37857c346a",
   "metadata": {},
   "outputs": [],
   "source": []
  }
 ],
 "metadata": {
  "kernelspec": {
   "display_name": "Python 3 (ipykernel)",
   "language": "python",
   "name": "python3"
  },
  "language_info": {
   "codemirror_mode": {
    "name": "ipython",
    "version": 3
   },
   "file_extension": ".py",
   "mimetype": "text/x-python",
   "name": "python",
   "nbconvert_exporter": "python",
   "pygments_lexer": "ipython3",
   "version": "3.13.2"
  }
 },
 "nbformat": 4,
 "nbformat_minor": 5
}
